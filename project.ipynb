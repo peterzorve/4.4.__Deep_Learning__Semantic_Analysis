{
 "cells": [
  {
   "attachments": {},
   "cell_type": "markdown",
   "metadata": {},
   "source": [
    "## Import Libraries"
   ]
  },
  {
   "cell_type": "code",
   "execution_count": 2,
   "metadata": {},
   "outputs": [],
   "source": [
    "from numpy import average\n",
    "import pandas as pd \n",
    "import spacy \n",
    "import torch\n",
    "import torch.nn as nn \n",
    "from collections import Counter\n",
    "from torch.utils.data import DataLoader, Dataset\n",
    "from tqdm import tqdm, tqdm_notebook\n",
    "from torchtext.vocab import FastText\n",
    "from torch import nn\n",
    "import torch.nn.functional as F\n",
    "from torch import optim\n",
    "import matplotlib.pyplot as plt "
   ]
  },
  {
   "attachments": {},
   "cell_type": "markdown",
   "metadata": {},
   "source": [
    "## Build Model"
   ]
  },
  {
   "cell_type": "code",
   "execution_count": 3,
   "metadata": {},
   "outputs": [],
   "source": [
    "class Classifier(nn.Module):\n",
    "    def __init__(self, max_seq_len, emb_dim, hidden1=32, hidden2=32):\n",
    "        super(Classifier, self).__init__()\n",
    "        self.fc1 = nn.Linear(max_seq_len*emb_dim, hidden1)\n",
    "        self.fc2 = nn.Linear(hidden1, hidden2)\n",
    "        self.fc3 = nn.Linear(hidden2, hidden2)\n",
    "        self.fc4 = nn.Linear(hidden2, 5)\n",
    "        self.out = nn.LogSoftmax(dim=1)\n",
    "    \n",
    "    def forward(self, inputs):\n",
    "        x = F.relu(self.fc1(inputs.squeeze(1).float()))\n",
    "        x = F.relu(self.fc2(x))\n",
    "        x = F.relu(self.fc3(x))\n",
    "        x = self.fc4(x)\n",
    "        return self.out(x)"
   ]
  },
  {
   "attachments": {},
   "cell_type": "markdown",
   "metadata": {},
   "source": [
    "## Preprocess Data Functions"
   ]
  },
  {
   "cell_type": "code",
   "execution_count": 4,
   "metadata": {},
   "outputs": [],
   "source": [
    "def load_data(path):\n",
    "     data = pd.read_csv(path, header=None, skiprows=1)\n",
    "     data.rename({1:'star', 2:'rating1', 3:'rating2'}, axis=1, inplace=True)\n",
    "     data['review'] = data['rating1'] + ' ' + data['rating2']\n",
    "     data = data.drop([0, 'rating1', 'rating2'], axis=1)\n",
    "     data.star = data['star'] - 1\n",
    "     data = data[['star', 'review']]\n",
    "     return data "
   ]
  },
  {
   "cell_type": "code",
   "execution_count": 5,
   "metadata": {},
   "outputs": [
    {
     "name": "stderr",
     "output_type": "stream",
     "text": [
      ".vector_cache\\wiki.simple.vec: 293MB [00:32, 9.05MB/s]                               \n",
      "  0%|          | 0/111051 [00:00<?, ?it/s]Skipping token b'111051' with 1-dimensional vector [b'300']; likely a header\n",
      "100%|██████████| 111051/111051 [00:20<00:00, 5389.14it/s]\n"
     ]
    }
   ],
   "source": [
    "nlp = spacy.load(\"en_core_web_sm\") \n",
    "fasttext = FastText(\"simple\")"
   ]
  },
  {
   "cell_type": "code",
   "execution_count": 6,
   "metadata": {},
   "outputs": [],
   "source": [
    "def preprocessing(sentence):\n",
    "    doc = nlp(sentence)\n",
    "    tokens = [token.lemma_ for token in doc if not token.is_punct and not token.is_stop]\n",
    "    return tokens"
   ]
  },
  {
   "cell_type": "code",
   "execution_count": 7,
   "metadata": {},
   "outputs": [],
   "source": [
    "def token_encoder(token, vec):\n",
    "    if token == \"<pad>\":\n",
    "        return 1\n",
    "    else:\n",
    "        try:\n",
    "            return vec.stoi[token]\n",
    "        except:\n",
    "            return 0"
   ]
  },
  {
   "cell_type": "code",
   "execution_count": 8,
   "metadata": {},
   "outputs": [],
   "source": [
    "def encoder(tokens, vec):\n",
    "    return [token_encoder(token, vec) for token in tokens]"
   ]
  },
  {
   "cell_type": "code",
   "execution_count": 15,
   "metadata": {},
   "outputs": [],
   "source": [
    "def padding(list_of_indexes, max_seq_len, padding_index=1):\n",
    "    output = list_of_indexes + (max_seq_len - len(list_of_indexes))*[padding_index]\n",
    "    return output[:max_seq_len]"
   ]
  },
  {
   "cell_type": "code",
   "execution_count": 9,
   "metadata": {},
   "outputs": [],
   "source": [
    "def front_padding(list_of_indexes, max_seq_len, padding_index=0):\n",
    "    new_out = (max_seq_len - len(list_of_indexes))*[padding_index] + list_of_indexes\n",
    "    return new_out[:max_seq_len]"
   ]
  },
  {
   "attachments": {},
   "cell_type": "markdown",
   "metadata": {},
   "source": [
    "## Dataset and DataLoader"
   ]
  },
  {
   "cell_type": "code",
   "execution_count": 10,
   "metadata": {},
   "outputs": [],
   "source": [
    "class TrainData(Dataset):\n",
    "    def __init__(self, df, max_seq_len=32): # df is the input df, max_seq_len is the max lenght allowed to a sentence before cutting or padding\n",
    "        self.max_seq_len = max_seq_len\n",
    "        \n",
    "        counter = Counter()\n",
    "        train_iter = iter(df.review.values)\n",
    "        self.vec = FastText(\"simple\")\n",
    "        self.vec.vectors[1] = -torch.ones(self.vec.vectors[1].shape[0]) # replacing the vector associated with 1 (padded value) to become a vector of -1.\n",
    "        self.vec.vectors[0] = torch.zeros(self.vec.vectors[0].shape[0]) # replacing the vector associated with 0 (unknown) to become zeros\n",
    "        self.vectorizer = lambda x: self.vec.vectors[x]\n",
    "        self.labels = df.star\n",
    "        sequences = [padding(encoder(preprocessing(sequence), self.vec), max_seq_len) for sequence in df.review.tolist()]\n",
    "        self.sequences = sequences\n",
    "    \n",
    "    def __len__(self):\n",
    "        return len(self.sequences)\n",
    "    \n",
    "    def __getitem__(self, i):\n",
    "        assert len(self.sequences[i]) == self.max_seq_len\n",
    "        return self.sequences[i], self.labels[i]"
   ]
  },
  {
   "cell_type": "code",
   "execution_count": 11,
   "metadata": {},
   "outputs": [],
   "source": [
    "def shuffle_data(dataset):\n",
    "     return dataset.sample(frac=1)"
   ]
  },
  {
   "attachments": {},
   "cell_type": "markdown",
   "metadata": {},
   "source": [
    "## Load and Shuffle Data"
   ]
  },
  {
   "cell_type": "code",
   "execution_count": 12,
   "metadata": {},
   "outputs": [],
   "source": [
    "data = load_data('data/3000test.csv')\n",
    "data = shuffle_data(data) "
   ]
  },
  {
   "cell_type": "code",
   "execution_count": 13,
   "metadata": {},
   "outputs": [],
   "source": [
    "train_data = data.iloc[:2000].reset_index(drop=True)\n",
    "test_data  = data.iloc[2000:].reset_index(drop=True)"
   ]
  },
  {
   "attachments": {},
   "cell_type": "markdown",
   "metadata": {},
   "source": [
    "## Load Train and Test Datasets"
   ]
  },
  {
   "cell_type": "code",
   "execution_count": 16,
   "metadata": {},
   "outputs": [],
   "source": [
    "train_dataset = TrainData(train_data, max_seq_len=64)\n",
    "test_dataset  = TrainData(test_data,  max_seq_len=64)"
   ]
  },
  {
   "cell_type": "code",
   "execution_count": 17,
   "metadata": {},
   "outputs": [],
   "source": [
    "def collate_train(batch, vectorizer=train_dataset.vectorizer):\n",
    "    inputs = torch.stack([torch.stack([vectorizer(token) for token in sentence[0]]) for sentence in batch])\n",
    "    target = torch.LongTensor([item[1] for item in batch]) # Use long tensor to avoid unwanted rounding\n",
    "    return inputs, target\n",
    "\n",
    "\n",
    "def collate_test(batch, vectorizer=test_dataset.vectorizer):\n",
    "    inputs = torch.stack([torch.stack([vectorizer(token) for token in sentence[0]]) for sentence in batch])\n",
    "    target = torch.LongTensor([item[1] for item in batch]) # Use long tensor to avoid unwanted rounding\n",
    "    return inputs, target "
   ]
  },
  {
   "cell_type": "code",
   "execution_count": 18,
   "metadata": {},
   "outputs": [],
   "source": [
    "train_loader = DataLoader(train_dataset, batch_size=64, collate_fn=collate_train)\n",
    "test_loader  = DataLoader(test_dataset, batch_size=64,  collate_fn=collate_test)"
   ]
  },
  {
   "attachments": {},
   "cell_type": "markdown",
   "metadata": {},
   "source": [
    "## Training "
   ]
  },
  {
   "attachments": {},
   "cell_type": "markdown",
   "metadata": {},
   "source": [
    "## `Instantiate Model, Loss Function, and Activation Function`"
   ]
  },
  {
   "cell_type": "code",
   "execution_count": 19,
   "metadata": {},
   "outputs": [],
   "source": [
    "emb_dim = 300\n",
    "MAX_SEQ_LEN = 64\n",
    "model = Classifier(MAX_SEQ_LEN, 300, 32, 32)\n",
    "criterion = nn.NLLLoss()\n",
    "optimizer = optim.Adam(model.parameters(), lr=0.003)"
   ]
  },
  {
   "attachments": {},
   "cell_type": "markdown",
   "metadata": {},
   "source": [
    "## `Start Training`"
   ]
  },
  {
   "cell_type": "code",
   "execution_count": 22,
   "metadata": {},
   "outputs": [
    {
     "name": "stdout",
     "output_type": "stream",
     "text": [
      "Epoch  :   1/30    |   Train Loss:  : 1.39726761     |  Test Loss:  : 1.77406018  |  Accuracy  :   0.2232\n",
      "Epoch  :   2/30    |   Train Loss:  : 1.38795755     |  Test Loss:  : 1.78460045  |  Accuracy  :   0.2248\n",
      "Epoch  :   3/30    |   Train Loss:  : 1.38579820     |  Test Loss:  : 1.81400824  |  Accuracy  :   0.2219\n",
      "Epoch  :   4/30    |   Train Loss:  : 1.38516302     |  Test Loss:  : 1.81081385  |  Accuracy  :   0.2238\n",
      "Epoch  :   5/30    |   Train Loss:  : 1.38521080     |  Test Loss:  : 1.83690282  |  Accuracy  :   0.2234\n",
      "Epoch  :   6/30    |   Train Loss:  : 1.38742108     |  Test Loss:  : 1.79412473  |  Accuracy  :   0.2209\n",
      "Epoch  :   7/30    |   Train Loss:  : 1.38256249     |  Test Loss:  : 1.83887205  |  Accuracy  :   0.2193\n",
      "Epoch  :   8/30    |   Train Loss:  : 1.38384326     |  Test Loss:  : 1.89913031  |  Accuracy  :   0.2184\n",
      "Epoch  :   9/30    |   Train Loss:  : 1.38673339     |  Test Loss:  : 1.78717190  |  Accuracy  :   0.2219\n",
      "Epoch  :  10/30    |   Train Loss:  : 1.37813704     |  Test Loss:  : 1.86419543  |  Accuracy  :   0.2248\n",
      "Epoch  :  11/30    |   Train Loss:  : 1.37332693     |  Test Loss:  : 1.85997847  |  Accuracy  :   0.2225\n",
      "Epoch  :  12/30    |   Train Loss:  : 1.37052366     |  Test Loss:  : 1.89649602  |  Accuracy  :   0.2234\n",
      "Epoch  :  13/30    |   Train Loss:  : 1.36937086     |  Test Loss:  : 1.91105144  |  Accuracy  :   0.2264\n",
      "Epoch  :  14/30    |   Train Loss:  : 1.37038282     |  Test Loss:  : 1.90597144  |  Accuracy  :   0.2215\n",
      "Epoch  :  15/30    |   Train Loss:  : 1.36973255     |  Test Loss:  : 1.97977009  |  Accuracy  :   0.2240\n",
      "Epoch  :  16/30    |   Train Loss:  : 1.36958367     |  Test Loss:  : 1.88686501  |  Accuracy  :   0.2195\n",
      "Epoch  :  17/30    |   Train Loss:  : 1.36944770     |  Test Loss:  : 1.97236877  |  Accuracy  :   0.2219\n",
      "Epoch  :  18/30    |   Train Loss:  : 1.36686055     |  Test Loss:  : 1.92063207  |  Accuracy  :   0.2244\n",
      "Epoch  :  19/30    |   Train Loss:  : 1.36503900     |  Test Loss:  : 1.93403963  |  Accuracy  :   0.2229\n",
      "Epoch  :  20/30    |   Train Loss:  : 1.36551923     |  Test Loss:  : 1.92021465  |  Accuracy  :   0.2219\n",
      "Epoch  :  21/30    |   Train Loss:  : 1.36381680     |  Test Loss:  : 1.99178509  |  Accuracy  :   0.2195\n",
      "Epoch  :  22/30    |   Train Loss:  : 1.36300384     |  Test Loss:  : 1.99175050  |  Accuracy  :   0.2229\n",
      "Epoch  :  23/30    |   Train Loss:  : 1.36291149     |  Test Loss:  : 1.91506343  |  Accuracy  :   0.2199\n",
      "Epoch  :  24/30    |   Train Loss:  : 1.36145843     |  Test Loss:  : 2.04717706  |  Accuracy  :   0.2234\n",
      "Epoch  :  25/30    |   Train Loss:  : 1.36098474     |  Test Loss:  : 1.96031559  |  Accuracy  :   0.2209\n",
      "Epoch  :  26/30    |   Train Loss:  : 1.36124517     |  Test Loss:  : 1.97353335  |  Accuracy  :   0.2225\n",
      "Epoch  :  27/30    |   Train Loss:  : 1.36036960     |  Test Loss:  : 1.96839561  |  Accuracy  :   0.2234\n",
      "Epoch  :  28/30    |   Train Loss:  : 1.36034352     |  Test Loss:  : 2.05100320  |  Accuracy  :   0.2154\n",
      "Epoch  :  29/30    |   Train Loss:  : 1.36148017     |  Test Loss:  : 1.99706898  |  Accuracy  :   0.2209\n",
      "Epoch  :  30/30    |   Train Loss:  : 1.36705556     |  Test Loss:  : 1.91533798  |  Accuracy  :   0.2225\n"
     ]
    }
   ],
   "source": [
    "from sklearn.metrics import accuracy_score\n",
    "\n",
    "epochs = 30\n",
    "all_train_losses, all_test_losses, all_accuracies = [],  [], []\n",
    "\n",
    "for e in range(epochs):\n",
    "     train_losses, test_losses, running_accuracy = 0, 0, 0\n",
    "\n",
    "     for i, (sentences_train, labels_train) in enumerate(iter(train_loader)):\n",
    "          # print(sentences_train.shape)\n",
    "          sentences_train.resize_(sentences_train.size()[0], 64 * emb_dim)\n",
    "\n",
    "          optimizer.zero_grad()\n",
    "          prediction_train = model.forward(sentences_train)   \n",
    "          loss_train = criterion(prediction_train, labels_train) \n",
    "          loss_train.backward()                  \n",
    "          optimizer.step()                \n",
    "\n",
    "          train_losses += loss_train.item()\n",
    "     \n",
    "     avg_train_loss = train_losses/len(train_loader)\n",
    "     all_train_losses.append(avg_train_loss)\n",
    "\n",
    "\n",
    "     model.eval()\n",
    "     with torch.no_grad():\n",
    "          for i, (sentences_test, labels_test) in enumerate(iter(test_loader)):\n",
    "               sentences_test.resize_(sentences_test.size()[0], 64* emb_dim)\n",
    "\n",
    "               prediction_test = model.forward(sentences_test) \n",
    "               loss_test = criterion(prediction_test, labels_test) \n",
    "\n",
    "               test_losses += loss_test.item()\n",
    "\n",
    "\n",
    "               prediction_class = torch.argmax(prediction_test, dim=1)\n",
    "               running_accuracy += accuracy_score(labels_test, prediction_class)\n",
    "          \n",
    "          avg_test_loss = test_losses/len(test_loader)\n",
    "          all_test_losses.append(avg_test_loss)\n",
    "\n",
    "          avg_running_accuracy = running_accuracy/len(test_loader)\n",
    "          all_accuracies.append(avg_running_accuracy)\n",
    "\n",
    "\n",
    "     model.train()\n",
    "\n",
    "     print(f'Epoch  : {e+1:3}/{epochs}    |   Train Loss:  : {avg_train_loss:.8f}     |  Test Loss:  : {avg_test_loss:.8f}  |  Accuracy  :   {avg_running_accuracy:.4f}')"
   ]
  },
  {
   "attachments": {},
   "cell_type": "markdown",
   "metadata": {},
   "source": [
    "## Save Model"
   ]
  },
  {
   "cell_type": "code",
   "execution_count": 23,
   "metadata": {},
   "outputs": [],
   "source": [
    "torch.save({ \"model_state\": model.state_dict(), 'max_seq_len' : 64, 'emb_dim' : 64, 'hidden1' : 32, 'hidden2' : 32}, 'trained_model/trained_model')"
   ]
  },
  {
   "attachments": {},
   "cell_type": "markdown",
   "metadata": {},
   "source": [
    "## Plot Training Results"
   ]
  },
  {
   "cell_type": "code",
   "execution_count": 24,
   "metadata": {},
   "outputs": [
    {
     "data": {
      "image/png": "[encoded data removed]",
      "text/plain": [
       "<Figure size 640x480 with 1 Axes>"
      ]
     },
     "metadata": {},
     "output_type": "display_data"
    }
   ],
   "source": [
    "plt.plot(all_train_losses, label='Train Loss')\n",
    "plt.plot(all_test_losses,  label='Test Loss')\n",
    "plt.plot(all_accuracies,   label='Accuracy')\n",
    "plt.legend()\n",
    "plt.show()"
   ]
  }
 ],
 "metadata": {
  "kernelspec": {
   "display_name": "deeplearning",
   "language": "python",
   "name": "python3"
  },
  "language_info": {
   "codemirror_mode": {
    "name": "ipython",
    "version": 3
   },
   "file_extension": ".py",
   "mimetype": "text/x-python",
   "name": "python",
   "nbconvert_exporter": "python",
   "pygments_lexer": "ipython3",
   "version": "3.8.13"
  },
  "orig_nbformat": 4
 },
 "nbformat": 4,
 "nbformat_minor": 2
}
